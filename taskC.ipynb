{
 "cells": [
  {
   "cell_type": "code",
   "execution_count": 1,
   "metadata": {},
   "outputs": [],
   "source": [
    "import pandas as pd\n",
    "import requests\n",
    "\n",
    "from bs4 import BeautifulSoup\n",
    "from taskA import extract_table"
   ]
  },
  {
   "cell_type": "code",
   "execution_count": 2,
   "metadata": {},
   "outputs": [],
   "source": [
    "def load_http_log():\n",
    "    # Extract dataset description columns from data source website\n",
    "    url = 'https://www.secrepo.com/Datasets%20Description/Network/http.html'\n",
    "    req = requests.get(url)\n",
    "    soup = BeautifulSoup(req.content, 'html.parser')\n",
    "\n",
    "    tables = soup.find_all('table')\n",
    "\n",
    "    # column names are in second table\n",
    "    table = extract_table(tables[1])\n",
    "    column_names = table[''].tolist()\n",
    "    dtypes = table['Data Type'].tolist()\n",
    "\n",
    "    with open('data/http.log', 'r') as f:\n",
    "        results = f.readlines()\n",
    "\n",
    "    results = [result.split('\\t') for result in results]\n",
    "\n",
    "    res = pd.DataFrame(results, columns=column_names)\n",
    "    res['resp_mime_types'] = res['resp_mime_types'].str.strip()\n",
    "    return res"
   ]
  },
  {
   "cell_type": "code",
   "execution_count": 3,
   "metadata": {},
   "outputs": [],
   "source": [
    "df = load_http_log()"
   ]
  },
  {
   "cell_type": "code",
   "execution_count": 4,
   "metadata": {},
   "outputs": [
    {
     "data": {
      "text/html": [
       "<div>\n",
       "<style scoped>\n",
       "    .dataframe tbody tr th:only-of-type {\n",
       "        vertical-align: middle;\n",
       "    }\n",
       "\n",
       "    .dataframe tbody tr th {\n",
       "        vertical-align: top;\n",
       "    }\n",
       "\n",
       "    .dataframe thead th {\n",
       "        text-align: right;\n",
       "    }\n",
       "</style>\n",
       "<table border=\"1\" class=\"dataframe\">\n",
       "  <thead>\n",
       "    <tr style=\"text-align: right;\">\n",
       "      <th></th>\n",
       "      <th>ts</th>\n",
       "      <th>uid</th>\n",
       "      <th>id.orig_h</th>\n",
       "      <th>id.orig_p</th>\n",
       "      <th>id.resp_h</th>\n",
       "      <th>id.resp_p</th>\n",
       "      <th>trans_depth</th>\n",
       "      <th>method</th>\n",
       "      <th>host</th>\n",
       "      <th>uri</th>\n",
       "      <th>...</th>\n",
       "      <th>info_msg</th>\n",
       "      <th>filename</th>\n",
       "      <th>tags</th>\n",
       "      <th>username</th>\n",
       "      <th>password</th>\n",
       "      <th>proxied</th>\n",
       "      <th>orig_fuids</th>\n",
       "      <th>orig_mime_types</th>\n",
       "      <th>resp_fuids</th>\n",
       "      <th>resp_mime_types</th>\n",
       "    </tr>\n",
       "  </thead>\n",
       "  <tbody>\n",
       "    <tr>\n",
       "      <th>0</th>\n",
       "      <td>1.331901e+09</td>\n",
       "      <td>CHEt7z3AzG4gyCNgci</td>\n",
       "      <td>192.168.202.79</td>\n",
       "      <td>50465</td>\n",
       "      <td>192.168.229.251</td>\n",
       "      <td>80</td>\n",
       "      <td>1</td>\n",
       "      <td>HEAD</td>\n",
       "      <td>192.168.229.251</td>\n",
       "      <td>/DEASLog02.nsf</td>\n",
       "      <td>...</td>\n",
       "      <td>-</td>\n",
       "      <td>-</td>\n",
       "      <td>(empty)</td>\n",
       "      <td>-</td>\n",
       "      <td>-</td>\n",
       "      <td>-</td>\n",
       "      <td>-</td>\n",
       "      <td>-</td>\n",
       "      <td>-</td>\n",
       "      <td>-</td>\n",
       "    </tr>\n",
       "    <tr>\n",
       "      <th>1</th>\n",
       "      <td>1.331901e+09</td>\n",
       "      <td>CKnDAp2ohlvN6rpiXl</td>\n",
       "      <td>192.168.202.79</td>\n",
       "      <td>50467</td>\n",
       "      <td>192.168.229.251</td>\n",
       "      <td>80</td>\n",
       "      <td>1</td>\n",
       "      <td>HEAD</td>\n",
       "      <td>192.168.229.251</td>\n",
       "      <td>/DEASLog03.nsf</td>\n",
       "      <td>...</td>\n",
       "      <td>-</td>\n",
       "      <td>-</td>\n",
       "      <td>(empty)</td>\n",
       "      <td>-</td>\n",
       "      <td>-</td>\n",
       "      <td>-</td>\n",
       "      <td>-</td>\n",
       "      <td>-</td>\n",
       "      <td>-</td>\n",
       "      <td>-</td>\n",
       "    </tr>\n",
       "    <tr>\n",
       "      <th>2</th>\n",
       "      <td>1.331901e+09</td>\n",
       "      <td>CNTrjn42F3LB58MZH6</td>\n",
       "      <td>192.168.202.79</td>\n",
       "      <td>50469</td>\n",
       "      <td>192.168.229.251</td>\n",
       "      <td>80</td>\n",
       "      <td>1</td>\n",
       "      <td>HEAD</td>\n",
       "      <td>192.168.229.251</td>\n",
       "      <td>/DEASLog04.nsf</td>\n",
       "      <td>...</td>\n",
       "      <td>-</td>\n",
       "      <td>-</td>\n",
       "      <td>(empty)</td>\n",
       "      <td>-</td>\n",
       "      <td>-</td>\n",
       "      <td>-</td>\n",
       "      <td>-</td>\n",
       "      <td>-</td>\n",
       "      <td>-</td>\n",
       "      <td>-</td>\n",
       "    </tr>\n",
       "    <tr>\n",
       "      <th>3</th>\n",
       "      <td>1.331901e+09</td>\n",
       "      <td>C1D7mK1PlzKEnEyG03</td>\n",
       "      <td>192.168.202.79</td>\n",
       "      <td>50471</td>\n",
       "      <td>192.168.229.251</td>\n",
       "      <td>80</td>\n",
       "      <td>1</td>\n",
       "      <td>HEAD</td>\n",
       "      <td>192.168.229.251</td>\n",
       "      <td>/DEASLog05.nsf</td>\n",
       "      <td>...</td>\n",
       "      <td>-</td>\n",
       "      <td>-</td>\n",
       "      <td>(empty)</td>\n",
       "      <td>-</td>\n",
       "      <td>-</td>\n",
       "      <td>-</td>\n",
       "      <td>-</td>\n",
       "      <td>-</td>\n",
       "      <td>-</td>\n",
       "      <td>-</td>\n",
       "    </tr>\n",
       "    <tr>\n",
       "      <th>4</th>\n",
       "      <td>1.331901e+09</td>\n",
       "      <td>CGF1bVMyl9ALKI32l</td>\n",
       "      <td>192.168.202.79</td>\n",
       "      <td>50473</td>\n",
       "      <td>192.168.229.251</td>\n",
       "      <td>80</td>\n",
       "      <td>1</td>\n",
       "      <td>HEAD</td>\n",
       "      <td>192.168.229.251</td>\n",
       "      <td>/DEASLog.nsf</td>\n",
       "      <td>...</td>\n",
       "      <td>-</td>\n",
       "      <td>-</td>\n",
       "      <td>(empty)</td>\n",
       "      <td>-</td>\n",
       "      <td>-</td>\n",
       "      <td>-</td>\n",
       "      <td>-</td>\n",
       "      <td>-</td>\n",
       "      <td>-</td>\n",
       "      <td>-</td>\n",
       "    </tr>\n",
       "  </tbody>\n",
       "</table>\n",
       "<p>5 rows × 27 columns</p>\n",
       "</div>"
      ],
      "text/plain": [
       "             ts                 uid       id.orig_h id.orig_p   \n",
       "0  1.331901e+09  CHEt7z3AzG4gyCNgci  192.168.202.79     50465  \\\n",
       "1  1.331901e+09  CKnDAp2ohlvN6rpiXl  192.168.202.79     50467   \n",
       "2  1.331901e+09  CNTrjn42F3LB58MZH6  192.168.202.79     50469   \n",
       "3  1.331901e+09  C1D7mK1PlzKEnEyG03  192.168.202.79     50471   \n",
       "4  1.331901e+09   CGF1bVMyl9ALKI32l  192.168.202.79     50473   \n",
       "\n",
       "         id.resp_h id.resp_p trans_depth method             host   \n",
       "0  192.168.229.251        80           1   HEAD  192.168.229.251  \\\n",
       "1  192.168.229.251        80           1   HEAD  192.168.229.251   \n",
       "2  192.168.229.251        80           1   HEAD  192.168.229.251   \n",
       "3  192.168.229.251        80           1   HEAD  192.168.229.251   \n",
       "4  192.168.229.251        80           1   HEAD  192.168.229.251   \n",
       "\n",
       "              uri  ... info_msg filename     tags username password proxied   \n",
       "0  /DEASLog02.nsf  ...        -        -  (empty)        -        -       -  \\\n",
       "1  /DEASLog03.nsf  ...        -        -  (empty)        -        -       -   \n",
       "2  /DEASLog04.nsf  ...        -        -  (empty)        -        -       -   \n",
       "3  /DEASLog05.nsf  ...        -        -  (empty)        -        -       -   \n",
       "4    /DEASLog.nsf  ...        -        -  (empty)        -        -       -   \n",
       "\n",
       "  orig_fuids orig_mime_types resp_fuids resp_mime_types  \n",
       "0          -               -          -               -  \n",
       "1          -               -          -               -  \n",
       "2          -               -          -               -  \n",
       "3          -               -          -               -  \n",
       "4          -               -          -               -  \n",
       "\n",
       "[5 rows x 27 columns]"
      ]
     },
     "execution_count": 4,
     "metadata": {},
     "output_type": "execute_result"
    }
   ],
   "source": [
    "df['ts'] = df['ts'].astype(float)\n",
    "df.head()"
   ]
  },
  {
   "attachments": {},
   "cell_type": "markdown",
   "metadata": {},
   "source": [
    "# Overview of Algorithm\n",
    "\n",
    "The algorithm makes use of rules to shortlist IPs that could be running reconnaissance activities against an enterprise web server.\n",
    "\n",
    "1. Cross Site Scripting\n",
    "2. SQL Injections\n",
    "3. Insecure Direct Object Reference\n",
    "4. Brute Force Attacks\n",
    "5. Unusual HTTP Methods\n",
    "6. Detecting search of credentials\n",
    "\n",
    "Cross Site Scripting - Search for html tags using '<' or '>' in uri which suggests that a script may be used\n",
    "\n",
    "SQL Injections - Search for SQL clauses, SQL commenting and using value = value in uri or user agent\n",
    "\n",
    "Insecure Direct Object Reference - Attacker may try to check if they can access other directories through insecure direct object reference. This can be detected by checking if there is '../' which indicates referencing to other directories.\n",
    "\n",
    "Brute Force Attack - Attacker tries to brute force the password or authentication, resulting in high numbers of 401 and 403 status code\n",
    "\n",
    "Unusual HTTP Methods - Unusual HTTP Methods can be signs of reconnaissance activities\n",
    "\n",
    "Detecting search of credentials - Attackers may try random search for credentials by adding 'passwd' or 'password' in uri or user agent\n",
    "\n",
    "The entire algorithm is a rule-based algorithm that flags any supicious IP address from the above listed malicious activities."
   ]
  },
  {
   "attachments": {},
   "cell_type": "markdown",
   "metadata": {},
   "source": [
    "## Cross Site Scripting\n",
    "Cross site scripting can be detected by checking for html tags in the uri. \n",
    "\n",
    "The IP address of the sender may be a victim but may also be suspcious. The referrer of this row is also suspicious as the referrer is the one that resulted in the sender sending this particular request with XSS."
   ]
  },
  {
   "cell_type": "code",
   "execution_count": 27,
   "metadata": {},
   "outputs": [],
   "source": [
    "def detect_XSS(df, col='uri', ip_col='id.orig_h'):\n",
    "    \"\"\"\n",
    "    Shortlists IP addresses that perform XSS\n",
    "    :param df: df containing all data\n",
    "    :param col: column that may contain the script\n",
    "    \"\"\"\n",
    "\n",
    "    # Find XSS in the uri\n",
    "    xss_df = df[(df[col].str.contains('<')) & (df[col].str.contains('>'))].copy()\n",
    "    result = set(xss_df[ip_col])\n",
    "\n",
    "    # Find IP address of referrer\n",
    "    referrers = xss_df['referrer'].str.findall('\\d{3}\\.\\d{3}\\.\\d{2}\\.\\d{3}')\n",
    "    referrers = set(referrers.explode().dropna())\n",
    "\n",
    "    result = result.union(referrers)\n",
    "    \n",
    "    return result"
   ]
  },
  {
   "cell_type": "code",
   "execution_count": 31,
   "metadata": {},
   "outputs": [
    {
     "data": {
      "text/plain": [
       "{'192.168.202.102',\n",
       " '192.168.202.110',\n",
       " '192.168.202.118',\n",
       " '192.168.202.125',\n",
       " '192.168.202.138',\n",
       " '192.168.202.140',\n",
       " '192.168.202.76',\n",
       " '192.168.202.79',\n",
       " '192.168.202.96',\n",
       " '192.168.203.63',\n",
       " '192.168.21.253',\n",
       " '192.168.22.202',\n",
       " '192.168.22.253',\n",
       " '192.168.23.103',\n",
       " '192.168.23.202',\n",
       " '192.168.24.253',\n",
       " '192.168.25.253',\n",
       " '192.168.26.202',\n",
       " '192.168.27.253',\n",
       " '192.168.28.202'}"
      ]
     },
     "execution_count": 31,
     "metadata": {},
     "output_type": "execute_result"
    }
   ],
   "source": [
    "XSS_ip = detect_XSS(df).union(detect_XSS(df, col='user_agent'))\n",
    "XSS_ip"
   ]
  },
  {
   "attachments": {},
   "cell_type": "markdown",
   "metadata": {},
   "source": [
    "## Detecting SQL Injections\n",
    "SQL Injections have clauses like SELECT, UNION, <value> = <value>, contain SQL comments, single quotes and semicolons"
   ]
  },
  {
   "cell_type": "code",
   "execution_count": 43,
   "metadata": {},
   "outputs": [],
   "source": [
    "def detect_sql_injections(df, col='uri', ip_col='id.orig_h'):\n",
    "    \"\"\"\n",
    "    Shortlists IP addresses that perform SQL Injections\n",
    "    :param df: df containing all data\n",
    "    :param col: column that may contain the script\n",
    "    \"\"\"\n",
    "\n",
    "    ip_addresses = set()\n",
    "\n",
    "    # IP addresses with URIs that contain select and union\n",
    "    ip_addresses = ip_addresses.union(\n",
    "        set(df[(df[col].str.lower().str.contains('union'))&(df['uri'].str.lower().str.contains('select'))][ip_col])\n",
    "    )\n",
    "\n",
    "    # Contain 'select\n",
    "    ip_addresses = ip_addresses.union(\n",
    "        set(df[(df[col].str.lower().str.contains('\\'(select|union|insert|update|delete|replace)', regex=True))][ip_col])\n",
    "    )\n",
    "\n",
    "    # Contain comments of form /**\n",
    "    ip_addresses = ip_addresses.union(\n",
    "        set(df[(df[col].str.lower().str.contains('/**', regex=False))][ip_col])\n",
    "    )\n",
    "\n",
    "    # Contain comments of form --\n",
    "    ip_addresses = ip_addresses.union(\n",
    "        set(df[(df[col].str.lower().str.contains('--', regex=False))][ip_col])\n",
    "    )\n",
    "    \n",
    "    return ip_addresses"
   ]
  },
  {
   "cell_type": "code",
   "execution_count": 44,
   "metadata": {},
   "outputs": [
    {
     "name": "stderr",
     "output_type": "stream",
     "text": [
      "C:\\Users\\tayya\\AppData\\Local\\Temp\\ipykernel_2488\\3130313059.py:17: UserWarning: This pattern is interpreted as a regular expression, and has match groups. To actually get the groups, use str.extract.\n",
      "  set(df[(df[col].str.lower().str.contains('\\'(select|union|insert|update|delete|replace)', regex=True))][ip_col])\n"
     ]
    },
    {
     "data": {
      "text/plain": [
       "{'192.168.202.102',\n",
       " '192.168.202.110',\n",
       " '192.168.202.118',\n",
       " '192.168.202.125',\n",
       " '192.168.202.138',\n",
       " '192.168.202.140',\n",
       " '192.168.202.150',\n",
       " '192.168.202.79',\n",
       " '192.168.202.96',\n",
       " '192.168.203.63'}"
      ]
     },
     "execution_count": 44,
     "metadata": {},
     "output_type": "execute_result"
    }
   ],
   "source": [
    "sql_injection_ip = detect_sql_injections(df).union(detect_sql_injections(df, col='user_agent'))\n",
    "sql_injection_ip"
   ]
  },
  {
   "attachments": {},
   "cell_type": "markdown",
   "metadata": {},
   "source": [
    "## Insecure Direct Object Reference\n",
    "Check for movement into different file directories"
   ]
  },
  {
   "cell_type": "code",
   "execution_count": 32,
   "metadata": {},
   "outputs": [],
   "source": [
    "def detect_DOR(df, col='uri', ip_col='id.orig_h'):\n",
    "    \"\"\"\n",
    "    Shortlists IP addresses that perform Insecure Direct Object Reference\n",
    "    :param df: df containing all data\n",
    "    :param col: column that may contain the script\n",
    "    \"\"\"\n",
    "    return set(df[(df[col].str.contains('../', regex=False))][ip_col])"
   ]
  },
  {
   "cell_type": "code",
   "execution_count": 33,
   "metadata": {},
   "outputs": [
    {
     "data": {
      "text/plain": [
       "{'192.168.202.100',\n",
       " '192.168.202.102',\n",
       " '192.168.202.110',\n",
       " '192.168.202.112',\n",
       " '192.168.202.118',\n",
       " '192.168.202.125',\n",
       " '192.168.202.138',\n",
       " '192.168.202.140',\n",
       " '192.168.202.150',\n",
       " '192.168.202.4',\n",
       " '192.168.202.79',\n",
       " '192.168.202.96',\n",
       " '192.168.203.45',\n",
       " '192.168.203.61',\n",
       " '192.168.203.63',\n",
       " '2001:dbb:c18:202:20c:29ff:fe41:4be7',\n",
       " '2001:dbb:c18:202:20c:29ff:fe93:571e'}"
      ]
     },
     "execution_count": 33,
     "metadata": {},
     "output_type": "execute_result"
    }
   ],
   "source": [
    "DOR_ip = detect_DOR(df).union(detect_DOR(df, col='user_agent'))\n",
    "DOR_ip"
   ]
  },
  {
   "attachments": {},
   "cell_type": "markdown",
   "metadata": {},
   "source": [
    "## Brute Force Attacks"
   ]
  },
  {
   "cell_type": "code",
   "execution_count": 52,
   "metadata": {},
   "outputs": [],
   "source": [
    "def detect_brute_force(df, status_code_col='status_code', ip_col='id.orig_h', threshold=100):\n",
    "\n",
    "    suspicious_requests = df[df[status_code_col].isin(['401', '403'])][[status_code_col, ip_col]]\n",
    "    suspicious_ip = suspicious_requests.groupby(ip_col).count().reset_index()\n",
    "    suspicious_ip = suspicious_ip[suspicious_ip[status_code_col] > threshold]\n",
    "\n",
    "    return set(suspicious_ip[ip_col])"
   ]
  },
  {
   "cell_type": "code",
   "execution_count": 53,
   "metadata": {},
   "outputs": [
    {
     "data": {
      "text/plain": [
       "{'192.168.202.102',\n",
       " '192.168.202.110',\n",
       " '192.168.202.138',\n",
       " '192.168.202.140',\n",
       " '192.168.202.68',\n",
       " '192.168.202.79'}"
      ]
     },
     "execution_count": 53,
     "metadata": {},
     "output_type": "execute_result"
    }
   ],
   "source": [
    "detect_brute_force(df)"
   ]
  },
  {
   "attachments": {},
   "cell_type": "markdown",
   "metadata": {},
   "source": [
    "## Unusual HTTP Methods\n",
    "Unusual and uncommon HTTP methods may indicate a search of vulnerabilities"
   ]
  },
  {
   "cell_type": "code",
   "execution_count": 47,
   "metadata": {},
   "outputs": [],
   "source": [
    "def detect_abnormal_methods(df, col, ip_col='id.orig_h'):\n",
    "    common_methods = ['GET', 'POST', 'PUT', 'DELETE', 'HEAD', 'OPTIONS', 'PATCH', 'TRACE']\n",
    "\n",
    "    return set(df[~df[col].isin(common_methods)][ip_col])"
   ]
  },
  {
   "cell_type": "code",
   "execution_count": 48,
   "metadata": {},
   "outputs": [
    {
     "data": {
      "text/plain": [
       "{'192.168.202.100',\n",
       " '192.168.202.101',\n",
       " '192.168.202.102',\n",
       " '192.168.202.108',\n",
       " '192.168.202.110',\n",
       " '192.168.202.112',\n",
       " '192.168.202.115',\n",
       " '192.168.202.118',\n",
       " '192.168.202.125',\n",
       " '192.168.202.136',\n",
       " '192.168.202.138',\n",
       " '192.168.202.140',\n",
       " '192.168.202.144',\n",
       " '192.168.202.153',\n",
       " '192.168.202.4',\n",
       " '192.168.202.79',\n",
       " '192.168.202.80',\n",
       " '192.168.202.88',\n",
       " '192.168.202.90',\n",
       " '192.168.202.94',\n",
       " '192.168.202.96',\n",
       " '192.168.203.45',\n",
       " '192.168.203.61',\n",
       " '192.168.204.45',\n",
       " '2001:dbb:c18:202:20c:29ff:fe93:571e'}"
      ]
     },
     "execution_count": 48,
     "metadata": {},
     "output_type": "execute_result"
    }
   ],
   "source": [
    "detect_abnormal_methods(df, 'method')"
   ]
  },
  {
   "attachments": {},
   "cell_type": "markdown",
   "metadata": {},
   "source": [
    "## Detecting searching of credentials\n",
    "Attackers append passwd or password to user agent or the uris to attempt to steal credentials."
   ]
  },
  {
   "cell_type": "code",
   "execution_count": 45,
   "metadata": {},
   "outputs": [],
   "source": [
    "def detect_cred_steal(df, col, ip_col='id.orig_h'):\n",
    "    return set(df[(df[col].str.contains('(passwd)|(password)'))][ip_col])"
   ]
  },
  {
   "cell_type": "code",
   "execution_count": 46,
   "metadata": {},
   "outputs": [
    {
     "name": "stderr",
     "output_type": "stream",
     "text": [
      "C:\\Users\\tayya\\AppData\\Local\\Temp\\ipykernel_2488\\3190368825.py:2: UserWarning: This pattern is interpreted as a regular expression, and has match groups. To actually get the groups, use str.extract.\n",
      "  return set(df[(df[col].str.contains('(passwd)|(password)'))][ip_col])\n"
     ]
    },
    {
     "data": {
      "text/plain": [
       "{'192.168.202.102',\n",
       " '192.168.202.103',\n",
       " '192.168.202.110',\n",
       " '192.168.202.112',\n",
       " '192.168.202.118',\n",
       " '192.168.202.125',\n",
       " '192.168.202.138',\n",
       " '192.168.202.140',\n",
       " '192.168.202.79',\n",
       " '192.168.202.94',\n",
       " '192.168.202.96',\n",
       " '192.168.203.63',\n",
       " '192.168.203.64',\n",
       " '192.168.204.45',\n",
       " '192.168.204.70'}"
      ]
     },
     "execution_count": 46,
     "metadata": {},
     "output_type": "execute_result"
    }
   ],
   "source": [
    "cred_steal_ip = detect_cred_steal(df, 'uri').union(detect_cred_steal(df, 'user_agent'))\n",
    "cred_steal_ip"
   ]
  },
  {
   "attachments": {},
   "cell_type": "markdown",
   "metadata": {},
   "source": [
    "# Overall Algorithm"
   ]
  },
  {
   "cell_type": "code",
   "execution_count": 54,
   "metadata": {},
   "outputs": [],
   "source": [
    "def detect_XSS(df, col='uri', ip_col='id.orig_h'):\n",
    "    \"\"\"\n",
    "    Shortlists IP addresses that perform XSS\n",
    "    :param df: df containing all data\n",
    "    :param col: column that may contain the script\n",
    "    \"\"\"\n",
    "\n",
    "    # Find XSS in the uri\n",
    "    xss_df = df[(df[col].str.contains('<')) & (df[col].str.contains('>'))].copy()\n",
    "    result = set(xss_df[ip_col])\n",
    "\n",
    "    # Find IP address of referrer\n",
    "    referrers = xss_df['referrer'].str.findall('\\d{3}\\.\\d{3}\\.\\d{2}\\.\\d{3}')\n",
    "    referrers = set(referrers.explode().dropna())\n",
    "\n",
    "    result = result.union(referrers)\n",
    "    \n",
    "    return result\n",
    "\n",
    "def detect_sql_injections(df, col='uri', ip_col='id.orig_h'):\n",
    "    \"\"\"\n",
    "    Shortlists IP addresses that perform SQL Injections\n",
    "    :param df: df containing all data\n",
    "    :param col: column that may contain the script\n",
    "    \"\"\"\n",
    "\n",
    "    ip_addresses = set()\n",
    "\n",
    "    # IP addresses with URIs that contain select and union\n",
    "    ip_addresses = ip_addresses.union(\n",
    "        set(df[(df[col].str.lower().str.contains('union'))&(df['uri'].str.lower().str.contains('select'))][ip_col])\n",
    "    )\n",
    "\n",
    "    # Contain 'select\n",
    "    ip_addresses = ip_addresses.union(\n",
    "        set(df[(df[col].str.lower().str.contains('\\'(select|union|insert|update|delete|replace)', regex=True))][ip_col])\n",
    "    )\n",
    "\n",
    "    # Contain comments of form /**\n",
    "    ip_addresses = ip_addresses.union(\n",
    "        set(df[(df[col].str.lower().str.contains('/**', regex=False))][ip_col])\n",
    "    )\n",
    "\n",
    "    # Contain comments of form --\n",
    "    ip_addresses = ip_addresses.union(\n",
    "        set(df[(df[col].str.lower().str.contains('--', regex=False))][ip_col])\n",
    "    )\n",
    "    \n",
    "    return ip_addresses\n",
    "\n",
    "def detect_DOR(df, col='uri', ip_col='id.orig_h'):\n",
    "    \"\"\"\n",
    "    Shortlists IP addresses that perform Insecure Direct Object Reference\n",
    "    :param df: df containing all data\n",
    "    :param col: column that may contain the script\n",
    "    \"\"\"\n",
    "    return set(df[(df[col].str.contains('../', regex=False))][ip_col])\n",
    "\n",
    "\n",
    "def detect_brute_force(df, status_code_col='status_code', ip_col='id.orig_h', threshold=100):\n",
    "\n",
    "    suspicious_requests = df[df[status_code_col].isin(['401', '403'])][[status_code_col, ip_col]]\n",
    "    suspicious_ip = suspicious_requests.groupby(ip_col).count().reset_index()\n",
    "    suspicious_ip = suspicious_ip[suspicious_ip[status_code_col] > threshold]\n",
    "\n",
    "    return set(suspicious_ip[ip_col])\n",
    "\n",
    "def detect_abnormal_methods(df, col, ip_col='id.orig_h'):\n",
    "    common_methods = ['GET', 'POST', 'PUT', 'DELETE', 'HEAD', 'OPTIONS', 'PATCH', 'TRACE']\n",
    "\n",
    "    return set(df[~df[col].isin(common_methods)][ip_col])\n",
    "\n",
    "def detect_cred_steal(df, col, ip_col='id.orig_h'):\n",
    "    return set(df[(df[col].str.contains('(passwd)|(password)'))][ip_col])"
   ]
  },
  {
   "cell_type": "code",
   "execution_count": 56,
   "metadata": {},
   "outputs": [],
   "source": [
    "def flag_supicious_IP(df):\n",
    "    result = detect_XSS(df, 'uri').union(detect_XSS(df, 'user_agent'))\n",
    "\n",
    "    result = result.union(detect_sql_injections(df, 'uri')).union(detect_sql_injections(df, 'user_agent'))\n",
    "\n",
    "    result = result.union(detect_brute_force(df, 'status_code'))\n",
    "\n",
    "    result = result.union(detect_DOR(df, 'uri')).union(detect_DOR(df, 'user_agent'))\n",
    "\n",
    "    result = result.union(detect_abnormal_methods(df, 'method'))\n",
    "\n",
    "    result = result.union(detect_cred_steal(df, 'uri')).union(detect_cred_steal(df, 'user_agent'))\n",
    "\n",
    "    return result\n",
    "    "
   ]
  },
  {
   "cell_type": "code",
   "execution_count": 58,
   "metadata": {},
   "outputs": [
    {
     "name": "stderr",
     "output_type": "stream",
     "text": [
      "C:\\Users\\tayya\\AppData\\Local\\Temp\\ipykernel_2488\\855082108.py:36: UserWarning: This pattern is interpreted as a regular expression, and has match groups. To actually get the groups, use str.extract.\n",
      "  set(df[(df[col].str.lower().str.contains('\\'(select|union|insert|update|delete|replace)', regex=True))][ip_col])\n",
      "C:\\Users\\tayya\\AppData\\Local\\Temp\\ipykernel_2488\\855082108.py:74: UserWarning: This pattern is interpreted as a regular expression, and has match groups. To actually get the groups, use str.extract.\n",
      "  return set(df[(df[col].str.contains('(passwd)|(password)'))][ip_col])\n"
     ]
    }
   ],
   "source": [
    "suspicious_ip = flag_supicious_IP(df)"
   ]
  },
  {
   "cell_type": "code",
   "execution_count": 59,
   "metadata": {},
   "outputs": [
    {
     "data": {
      "text/plain": [
       "43"
      ]
     },
     "execution_count": 59,
     "metadata": {},
     "output_type": "execute_result"
    }
   ],
   "source": [
    "len(suspicious_ip)"
   ]
  },
  {
   "cell_type": "code",
   "execution_count": 60,
   "metadata": {},
   "outputs": [
    {
     "data": {
      "text/plain": [
       "{'192.168.202.100',\n",
       " '192.168.202.101',\n",
       " '192.168.202.102',\n",
       " '192.168.202.103',\n",
       " '192.168.202.108',\n",
       " '192.168.202.110',\n",
       " '192.168.202.112',\n",
       " '192.168.202.115',\n",
       " '192.168.202.118',\n",
       " '192.168.202.125',\n",
       " '192.168.202.136',\n",
       " '192.168.202.138',\n",
       " '192.168.202.140',\n",
       " '192.168.202.144',\n",
       " '192.168.202.150',\n",
       " '192.168.202.153',\n",
       " '192.168.202.4',\n",
       " '192.168.202.68',\n",
       " '192.168.202.76',\n",
       " '192.168.202.79',\n",
       " '192.168.202.80',\n",
       " '192.168.202.88',\n",
       " '192.168.202.90',\n",
       " '192.168.202.94',\n",
       " '192.168.202.96',\n",
       " '192.168.203.45',\n",
       " '192.168.203.61',\n",
       " '192.168.203.63',\n",
       " '192.168.203.64',\n",
       " '192.168.204.45',\n",
       " '192.168.204.70',\n",
       " '192.168.21.253',\n",
       " '192.168.22.202',\n",
       " '192.168.22.253',\n",
       " '192.168.23.103',\n",
       " '192.168.23.202',\n",
       " '192.168.24.253',\n",
       " '192.168.25.253',\n",
       " '192.168.26.202',\n",
       " '192.168.27.253',\n",
       " '192.168.28.202',\n",
       " '2001:dbb:c18:202:20c:29ff:fe41:4be7',\n",
       " '2001:dbb:c18:202:20c:29ff:fe93:571e'}"
      ]
     },
     "execution_count": 60,
     "metadata": {},
     "output_type": "execute_result"
    }
   ],
   "source": [
    "suspicious_ip"
   ]
  },
  {
   "attachments": {},
   "cell_type": "markdown",
   "metadata": {},
   "source": [
    "# References\n",
    "Meyer, R. (n.d.). Detecting attacks web applications log files - giac.org. https://www.giac.org/paper/gcia/1996/detecting-attacks-web-applications-log-files/106864 \n",
    "\n",
    "Manners, D. (2011, October 20). The User Agent Field: Analyzing and Detecting the Abnormal or Malicious in your Organization. https://sansorg.egnyte.com/dl/pGWQkGIq5N "
   ]
  }
 ],
 "metadata": {
  "kernelspec": {
   "display_name": ".venv",
   "language": "python",
   "name": "python3"
  },
  "language_info": {
   "codemirror_mode": {
    "name": "ipython",
    "version": 3
   },
   "file_extension": ".py",
   "mimetype": "text/x-python",
   "name": "python",
   "nbconvert_exporter": "python",
   "pygments_lexer": "ipython3",
   "version": "3.10.6"
  },
  "orig_nbformat": 4
 },
 "nbformat": 4,
 "nbformat_minor": 2
}
